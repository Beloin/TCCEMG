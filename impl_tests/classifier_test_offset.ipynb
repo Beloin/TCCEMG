{
 "cells": [
  {
   "cell_type": "markdown",
   "metadata": {},
   "source": [
    "# Classifier Tests with extracted data with now 100ms offset"
   ]
  },
  {
   "cell_type": "markdown",
   "metadata": {},
   "source": [
    "IDEIA:\n",
    "\n",
    "Usar dois dados rápidos para análise rápida e depois no meio do movimento da mão verificar a análise com mais tempo e corrigir o movimento"
   ]
  },
  {
   "cell_type": "markdown",
   "metadata": {},
   "source": [
    "### Code encapsulated on `dataset_creation.py`"
   ]
  },
  {
   "cell_type": "code",
   "execution_count": 1,
   "metadata": {
    "jupyter": {
     "is_executing": true
    }
   },
   "outputs": [],
   "source": [
    "import pandas as pd\n",
    "import numpy as np\n",
    "import matplotlib.pyplot as plt\n",
    "\n",
    "import extractor as ext"
   ]
  },
  {
   "cell_type": "code",
   "execution_count": 2,
   "metadata": {},
   "outputs": [],
   "source": [
    "import dataset_creation as dtc\n",
    "\n",
    "fbase1 = pd.read_csv('./1_filtered.csv', header=None)\n",
    "fbase2 = pd.read_csv('./2_filtered.csv', header=None)\n",
    "fbase3 = pd.read_csv('./3_filtered.csv', header=None)\n",
    "\n",
    "_, ds = dtc.create_dataset(fbase1)\n",
    "_, ds_2 = dtc.create_dataset(fbase2)\n",
    "_, ds_3 = dtc.create_dataset(fbase3)"
   ]
  },
  {
   "cell_type": "code",
   "execution_count": 3,
   "metadata": {},
   "outputs": [
    {
     "data": {
      "text/html": [
       "<div>\n",
       "<style scoped>\n",
       "    .dataframe tbody tr th:only-of-type {\n",
       "        vertical-align: middle;\n",
       "    }\n",
       "\n",
       "    .dataframe tbody tr th {\n",
       "        vertical-align: top;\n",
       "    }\n",
       "\n",
       "    .dataframe thead th {\n",
       "        text-align: right;\n",
       "    }\n",
       "</style>\n",
       "<table border=\"1\" class=\"dataframe\">\n",
       "  <thead>\n",
       "    <tr style=\"text-align: right;\">\n",
       "      <th></th>\n",
       "      <th>class</th>\n",
       "      <th>SENSOR0_RMS</th>\n",
       "      <th>SENSOR0_WAVELEN</th>\n",
       "      <th>SENSOR0_WAMP</th>\n",
       "      <th>SENSOR0_APPEN</th>\n",
       "      <th>SENSOR0_SAMPEN</th>\n",
       "      <th>SENSOR0_MAV</th>\n",
       "      <th>SENSOR1_RMS</th>\n",
       "      <th>SENSOR1_WAVELEN</th>\n",
       "      <th>SENSOR1_WAMP</th>\n",
       "      <th>...</th>\n",
       "      <th>SENSOR2_WAMP</th>\n",
       "      <th>SENSOR2_APPEN</th>\n",
       "      <th>SENSOR2_SAMPEN</th>\n",
       "      <th>SENSOR2_MAV</th>\n",
       "      <th>SENSOR3_RMS</th>\n",
       "      <th>SENSOR3_WAVELEN</th>\n",
       "      <th>SENSOR3_WAMP</th>\n",
       "      <th>SENSOR3_APPEN</th>\n",
       "      <th>SENSOR3_SAMPEN</th>\n",
       "      <th>SENSOR3_MAV</th>\n",
       "    </tr>\n",
       "  </thead>\n",
       "  <tbody>\n",
       "    <tr>\n",
       "      <th>0</th>\n",
       "      <td>rest</td>\n",
       "      <td>0.025778</td>\n",
       "      <td>4.690946</td>\n",
       "      <td>152</td>\n",
       "      <td>0.761876</td>\n",
       "      <td>0.765203</td>\n",
       "      <td>0.018910</td>\n",
       "      <td>0.028474</td>\n",
       "      <td>5.824146</td>\n",
       "      <td>213</td>\n",
       "      <td>...</td>\n",
       "      <td>24</td>\n",
       "      <td>0.817085</td>\n",
       "      <td>0.769114</td>\n",
       "      <td>0.007545</td>\n",
       "      <td>0.006339</td>\n",
       "      <td>1.351022</td>\n",
       "      <td>6</td>\n",
       "      <td>0.750815</td>\n",
       "      <td>0.806641</td>\n",
       "      <td>0.004854</td>\n",
       "    </tr>\n",
       "    <tr>\n",
       "      <th>1</th>\n",
       "      <td>rest</td>\n",
       "      <td>0.114155</td>\n",
       "      <td>19.795009</td>\n",
       "      <td>404</td>\n",
       "      <td>0.722534</td>\n",
       "      <td>0.461799</td>\n",
       "      <td>0.082869</td>\n",
       "      <td>0.132646</td>\n",
       "      <td>25.435204</td>\n",
       "      <td>403</td>\n",
       "      <td>...</td>\n",
       "      <td>270</td>\n",
       "      <td>0.654284</td>\n",
       "      <td>0.347822</td>\n",
       "      <td>0.040934</td>\n",
       "      <td>0.008554</td>\n",
       "      <td>1.499724</td>\n",
       "      <td>15</td>\n",
       "      <td>0.653104</td>\n",
       "      <td>0.511161</td>\n",
       "      <td>0.006082</td>\n",
       "    </tr>\n",
       "    <tr>\n",
       "      <th>2</th>\n",
       "      <td>rest</td>\n",
       "      <td>0.019800</td>\n",
       "      <td>3.340922</td>\n",
       "      <td>95</td>\n",
       "      <td>0.705836</td>\n",
       "      <td>0.643829</td>\n",
       "      <td>0.013796</td>\n",
       "      <td>0.027071</td>\n",
       "      <td>3.633526</td>\n",
       "      <td>109</td>\n",
       "      <td>...</td>\n",
       "      <td>19</td>\n",
       "      <td>0.705468</td>\n",
       "      <td>0.613568</td>\n",
       "      <td>0.006553</td>\n",
       "      <td>0.009203</td>\n",
       "      <td>1.658827</td>\n",
       "      <td>28</td>\n",
       "      <td>0.612566</td>\n",
       "      <td>0.538012</td>\n",
       "      <td>0.006183</td>\n",
       "    </tr>\n",
       "    <tr>\n",
       "      <th>3</th>\n",
       "      <td>rest</td>\n",
       "      <td>0.051270</td>\n",
       "      <td>7.857570</td>\n",
       "      <td>275</td>\n",
       "      <td>0.654218</td>\n",
       "      <td>0.632517</td>\n",
       "      <td>0.035259</td>\n",
       "      <td>0.050506</td>\n",
       "      <td>9.167656</td>\n",
       "      <td>286</td>\n",
       "      <td>...</td>\n",
       "      <td>65</td>\n",
       "      <td>0.795376</td>\n",
       "      <td>0.764882</td>\n",
       "      <td>0.010221</td>\n",
       "      <td>0.004391</td>\n",
       "      <td>0.746519</td>\n",
       "      <td>4</td>\n",
       "      <td>0.620374</td>\n",
       "      <td>0.622031</td>\n",
       "      <td>0.002760</td>\n",
       "    </tr>\n",
       "    <tr>\n",
       "      <th>4</th>\n",
       "      <td>rest</td>\n",
       "      <td>0.028564</td>\n",
       "      <td>4.953125</td>\n",
       "      <td>200</td>\n",
       "      <td>0.770079</td>\n",
       "      <td>0.772722</td>\n",
       "      <td>0.022161</td>\n",
       "      <td>0.030911</td>\n",
       "      <td>6.341121</td>\n",
       "      <td>239</td>\n",
       "      <td>...</td>\n",
       "      <td>50</td>\n",
       "      <td>0.910142</td>\n",
       "      <td>0.903319</td>\n",
       "      <td>0.009642</td>\n",
       "      <td>0.002239</td>\n",
       "      <td>0.578978</td>\n",
       "      <td>0</td>\n",
       "      <td>0.884294</td>\n",
       "      <td>0.981155</td>\n",
       "      <td>0.001818</td>\n",
       "    </tr>\n",
       "    <tr>\n",
       "      <th>...</th>\n",
       "      <td>...</td>\n",
       "      <td>...</td>\n",
       "      <td>...</td>\n",
       "      <td>...</td>\n",
       "      <td>...</td>\n",
       "      <td>...</td>\n",
       "      <td>...</td>\n",
       "      <td>...</td>\n",
       "      <td>...</td>\n",
       "      <td>...</td>\n",
       "      <td>...</td>\n",
       "      <td>...</td>\n",
       "      <td>...</td>\n",
       "      <td>...</td>\n",
       "      <td>...</td>\n",
       "      <td>...</td>\n",
       "      <td>...</td>\n",
       "      <td>...</td>\n",
       "      <td>...</td>\n",
       "      <td>...</td>\n",
       "      <td>...</td>\n",
       "    </tr>\n",
       "    <tr>\n",
       "      <th>45</th>\n",
       "      <td>pronation</td>\n",
       "      <td>0.030378</td>\n",
       "      <td>5.697423</td>\n",
       "      <td>199</td>\n",
       "      <td>0.721915</td>\n",
       "      <td>0.720503</td>\n",
       "      <td>0.022557</td>\n",
       "      <td>0.036519</td>\n",
       "      <td>8.009035</td>\n",
       "      <td>306</td>\n",
       "      <td>...</td>\n",
       "      <td>13</td>\n",
       "      <td>0.621226</td>\n",
       "      <td>0.550829</td>\n",
       "      <td>0.017327</td>\n",
       "      <td>0.004922</td>\n",
       "      <td>0.860320</td>\n",
       "      <td>0</td>\n",
       "      <td>0.688002</td>\n",
       "      <td>0.671017</td>\n",
       "      <td>0.003576</td>\n",
       "    </tr>\n",
       "    <tr>\n",
       "      <th>46</th>\n",
       "      <td>pronation</td>\n",
       "      <td>0.038516</td>\n",
       "      <td>6.639381</td>\n",
       "      <td>260</td>\n",
       "      <td>0.751622</td>\n",
       "      <td>0.764209</td>\n",
       "      <td>0.028397</td>\n",
       "      <td>0.037276</td>\n",
       "      <td>7.615614</td>\n",
       "      <td>282</td>\n",
       "      <td>...</td>\n",
       "      <td>2</td>\n",
       "      <td>0.651182</td>\n",
       "      <td>0.601910</td>\n",
       "      <td>0.012500</td>\n",
       "      <td>0.002227</td>\n",
       "      <td>0.460273</td>\n",
       "      <td>0</td>\n",
       "      <td>0.775137</td>\n",
       "      <td>0.815956</td>\n",
       "      <td>0.001680</td>\n",
       "    </tr>\n",
       "    <tr>\n",
       "      <th>47</th>\n",
       "      <td>pronation</td>\n",
       "      <td>0.113943</td>\n",
       "      <td>21.828728</td>\n",
       "      <td>502</td>\n",
       "      <td>0.898704</td>\n",
       "      <td>0.972513</td>\n",
       "      <td>0.089653</td>\n",
       "      <td>0.117498</td>\n",
       "      <td>26.445957</td>\n",
       "      <td>502</td>\n",
       "      <td>...</td>\n",
       "      <td>135</td>\n",
       "      <td>0.700922</td>\n",
       "      <td>0.693029</td>\n",
       "      <td>0.026425</td>\n",
       "      <td>0.008923</td>\n",
       "      <td>1.857352</td>\n",
       "      <td>13</td>\n",
       "      <td>0.760100</td>\n",
       "      <td>0.804141</td>\n",
       "      <td>0.006903</td>\n",
       "    </tr>\n",
       "    <tr>\n",
       "      <th>48</th>\n",
       "      <td>pronation</td>\n",
       "      <td>0.048793</td>\n",
       "      <td>7.550464</td>\n",
       "      <td>269</td>\n",
       "      <td>0.737699</td>\n",
       "      <td>0.682390</td>\n",
       "      <td>0.037856</td>\n",
       "      <td>0.044876</td>\n",
       "      <td>9.703608</td>\n",
       "      <td>345</td>\n",
       "      <td>...</td>\n",
       "      <td>31</td>\n",
       "      <td>0.655711</td>\n",
       "      <td>0.603518</td>\n",
       "      <td>0.018161</td>\n",
       "      <td>0.003507</td>\n",
       "      <td>0.698299</td>\n",
       "      <td>1</td>\n",
       "      <td>0.688650</td>\n",
       "      <td>0.709156</td>\n",
       "      <td>0.002569</td>\n",
       "    </tr>\n",
       "    <tr>\n",
       "      <th>49</th>\n",
       "      <td>pronation</td>\n",
       "      <td>0.014309</td>\n",
       "      <td>2.727917</td>\n",
       "      <td>56</td>\n",
       "      <td>0.840805</td>\n",
       "      <td>0.807063</td>\n",
       "      <td>0.010685</td>\n",
       "      <td>0.036427</td>\n",
       "      <td>7.923051</td>\n",
       "      <td>274</td>\n",
       "      <td>...</td>\n",
       "      <td>3</td>\n",
       "      <td>0.838940</td>\n",
       "      <td>0.789043</td>\n",
       "      <td>0.006985</td>\n",
       "      <td>0.002033</td>\n",
       "      <td>0.420795</td>\n",
       "      <td>0</td>\n",
       "      <td>0.803196</td>\n",
       "      <td>0.860966</td>\n",
       "      <td>0.001641</td>\n",
       "    </tr>\n",
       "  </tbody>\n",
       "</table>\n",
       "<p>150 rows × 25 columns</p>\n",
       "</div>"
      ],
      "text/plain": [
       "        class  SENSOR0_RMS  SENSOR0_WAVELEN  SENSOR0_WAMP  SENSOR0_APPEN  \\\n",
       "0        rest     0.025778         4.690946           152       0.761876   \n",
       "1        rest     0.114155        19.795009           404       0.722534   \n",
       "2        rest     0.019800         3.340922            95       0.705836   \n",
       "3        rest     0.051270         7.857570           275       0.654218   \n",
       "4        rest     0.028564         4.953125           200       0.770079   \n",
       "..        ...          ...              ...           ...            ...   \n",
       "45  pronation     0.030378         5.697423           199       0.721915   \n",
       "46  pronation     0.038516         6.639381           260       0.751622   \n",
       "47  pronation     0.113943        21.828728           502       0.898704   \n",
       "48  pronation     0.048793         7.550464           269       0.737699   \n",
       "49  pronation     0.014309         2.727917            56       0.840805   \n",
       "\n",
       "    SENSOR0_SAMPEN  SENSOR0_MAV  SENSOR1_RMS  SENSOR1_WAVELEN  SENSOR1_WAMP  \\\n",
       "0         0.765203     0.018910     0.028474         5.824146           213   \n",
       "1         0.461799     0.082869     0.132646        25.435204           403   \n",
       "2         0.643829     0.013796     0.027071         3.633526           109   \n",
       "3         0.632517     0.035259     0.050506         9.167656           286   \n",
       "4         0.772722     0.022161     0.030911         6.341121           239   \n",
       "..             ...          ...          ...              ...           ...   \n",
       "45        0.720503     0.022557     0.036519         8.009035           306   \n",
       "46        0.764209     0.028397     0.037276         7.615614           282   \n",
       "47        0.972513     0.089653     0.117498        26.445957           502   \n",
       "48        0.682390     0.037856     0.044876         9.703608           345   \n",
       "49        0.807063     0.010685     0.036427         7.923051           274   \n",
       "\n",
       "    ...  SENSOR2_WAMP  SENSOR2_APPEN  SENSOR2_SAMPEN  SENSOR2_MAV  \\\n",
       "0   ...            24       0.817085        0.769114     0.007545   \n",
       "1   ...           270       0.654284        0.347822     0.040934   \n",
       "2   ...            19       0.705468        0.613568     0.006553   \n",
       "3   ...            65       0.795376        0.764882     0.010221   \n",
       "4   ...            50       0.910142        0.903319     0.009642   \n",
       "..  ...           ...            ...             ...          ...   \n",
       "45  ...            13       0.621226        0.550829     0.017327   \n",
       "46  ...             2       0.651182        0.601910     0.012500   \n",
       "47  ...           135       0.700922        0.693029     0.026425   \n",
       "48  ...            31       0.655711        0.603518     0.018161   \n",
       "49  ...             3       0.838940        0.789043     0.006985   \n",
       "\n",
       "    SENSOR3_RMS  SENSOR3_WAVELEN  SENSOR3_WAMP  SENSOR3_APPEN  SENSOR3_SAMPEN  \\\n",
       "0      0.006339         1.351022             6       0.750815        0.806641   \n",
       "1      0.008554         1.499724            15       0.653104        0.511161   \n",
       "2      0.009203         1.658827            28       0.612566        0.538012   \n",
       "3      0.004391         0.746519             4       0.620374        0.622031   \n",
       "4      0.002239         0.578978             0       0.884294        0.981155   \n",
       "..          ...              ...           ...            ...             ...   \n",
       "45     0.004922         0.860320             0       0.688002        0.671017   \n",
       "46     0.002227         0.460273             0       0.775137        0.815956   \n",
       "47     0.008923         1.857352            13       0.760100        0.804141   \n",
       "48     0.003507         0.698299             1       0.688650        0.709156   \n",
       "49     0.002033         0.420795             0       0.803196        0.860966   \n",
       "\n",
       "    SENSOR3_MAV  \n",
       "0      0.004854  \n",
       "1      0.006082  \n",
       "2      0.006183  \n",
       "3      0.002760  \n",
       "4      0.001818  \n",
       "..          ...  \n",
       "45     0.003576  \n",
       "46     0.001680  \n",
       "47     0.006903  \n",
       "48     0.002569  \n",
       "49     0.001641  \n",
       "\n",
       "[150 rows x 25 columns]"
      ]
     },
     "execution_count": 3,
     "metadata": {},
     "output_type": "execute_result"
    }
   ],
   "source": [
    "full_ds = pd.concat([ds, ds_2, ds_3])\n",
    "full_ds"
   ]
  },
  {
   "cell_type": "code",
   "execution_count": 23,
   "metadata": {},
   "outputs": [
    {
     "data": {
      "text/plain": [
       "Index(['class', 'SENSOR0_RMS', 'SENSOR0_WAVELEN', 'SENSOR0_WAMP',\n",
       "       'SENSOR0_APPEN', 'SENSOR0_SAMPEN', 'SENSOR0_MAV', 'SENSOR1_RMS',\n",
       "       'SENSOR1_WAVELEN', 'SENSOR1_WAMP', 'SENSOR1_APPEN', 'SENSOR1_SAMPEN',\n",
       "       'SENSOR1_MAV', 'SENSOR2_RMS', 'SENSOR2_WAVELEN', 'SENSOR2_WAMP',\n",
       "       'SENSOR2_APPEN', 'SENSOR2_SAMPEN', 'SENSOR2_MAV', 'SENSOR3_RMS',\n",
       "       'SENSOR3_WAVELEN', 'SENSOR3_WAMP', 'SENSOR3_APPEN', 'SENSOR3_SAMPEN',\n",
       "       'SENSOR3_MAV'],\n",
       "      dtype='object')"
      ]
     },
     "execution_count": 23,
     "metadata": {},
     "output_type": "execute_result"
    }
   ],
   "source": [
    "full_ds.columns"
   ]
  },
  {
   "cell_type": "code",
   "execution_count": 4,
   "metadata": {},
   "outputs": [],
   "source": [
    "import numpy as np\n",
    "\n",
    "import sklearn as sk\n",
    "\n",
    "from sklearn.model_selection import train_test_split\n",
    "from sklearn.impute import SimpleImputer\n",
    "from sklearn.preprocessing import OneHotEncoder, LabelEncoder\n",
    "from sklearn.ensemble import RandomForestRegressor\n",
    "from sklearn.metrics import mean_absolute_error, accuracy_score\n",
    "\n",
    "from sklearn.neighbors import KNeighborsClassifier"
   ]
  },
  {
   "cell_type": "code",
   "execution_count": 5,
   "metadata": {},
   "outputs": [],
   "source": [
    "def get_score_and_accuracy(X, Y):\n",
    "    X_train,X_test,Y_train,Y_test=train_test_split(X,Y,train_size=0.8,test_size=0.2)\n",
    "\n",
    "    encoder = LabelEncoder()\n",
    "    Y_train = encoder.fit_transform(Y_train)\n",
    "\n",
    "    labeled_Y_test = Y_test\n",
    "    Y_test = encoder.transform(Y_test)\n",
    "    model = KNeighborsClassifier()\n",
    "    model.fit(X_train, Y_train)\n",
    "    preds_valid = model.predict(X_test)\n",
    "    return mean_absolute_error(Y_test, preds_valid), accuracy_score(Y_test, preds_valid)"
   ]
  },
  {
   "cell_type": "markdown",
   "metadata": {},
   "source": [
    "## RMS Test"
   ]
  },
  {
   "cell_type": "code",
   "execution_count": 6,
   "metadata": {},
   "outputs": [
    {
     "data": {
      "text/plain": [
       "(2.966666666666667, 0.06666666666666667)"
      ]
     },
     "execution_count": 6,
     "metadata": {},
     "output_type": "execute_result"
    }
   ],
   "source": [
    "class_column = \"class\"\n",
    "train_columns = [f\"SENSOR{i}_RMS\" for i in range(4)]\n",
    "\n",
    "X = full_ds[train_columns]\n",
    "Y = full_ds[class_column]\n",
    "\n",
    "get_score_and_accuracy(X, Y)"
   ]
  },
  {
   "cell_type": "markdown",
   "metadata": {},
   "source": [
    "## Appen Test"
   ]
  },
  {
   "cell_type": "code",
   "execution_count": 8,
   "metadata": {},
   "outputs": [
    {
     "data": {
      "text/plain": [
       "(3.1666666666666665, 0.1)"
      ]
     },
     "execution_count": 8,
     "metadata": {},
     "output_type": "execute_result"
    }
   ],
   "source": [
    "class_column = \"class\"\n",
    "train_columns = [f\"SENSOR{i}_APPEN\" for i in range(4)]\n",
    "\n",
    "X = full_ds[train_columns]\n",
    "Y = full_ds[class_column]\n",
    "\n",
    "get_score_and_accuracy(X, Y)"
   ]
  },
  {
   "cell_type": "markdown",
   "metadata": {},
   "source": [
    "## Sampen Test"
   ]
  },
  {
   "cell_type": "code",
   "execution_count": 71,
   "metadata": {},
   "outputs": [
    {
     "ename": "ValueError",
     "evalue": "Input X contains infinity or a value too large for dtype('float64').",
     "output_type": "error",
     "traceback": [
      "\u001b[0;31m---------------------------------------------------------------------------\u001b[0m",
      "\u001b[0;31mValueError\u001b[0m                                Traceback (most recent call last)",
      "Cell \u001b[0;32mIn[71], line 7\u001b[0m\n\u001b[1;32m      4\u001b[0m X \u001b[39m=\u001b[39m full_ds[train_columns]\n\u001b[1;32m      5\u001b[0m Y \u001b[39m=\u001b[39m full_ds[class_column]\n\u001b[0;32m----> 7\u001b[0m get_score_and_accuracy(X, Y)\n",
      "Cell \u001b[0;32mIn[66], line 10\u001b[0m, in \u001b[0;36mget_score_and_accuracy\u001b[0;34m(X, Y)\u001b[0m\n\u001b[1;32m      8\u001b[0m Y_test \u001b[39m=\u001b[39m encoder\u001b[39m.\u001b[39mtransform(Y_test)\n\u001b[1;32m      9\u001b[0m model \u001b[39m=\u001b[39m KNeighborsClassifier()\n\u001b[0;32m---> 10\u001b[0m model\u001b[39m.\u001b[39;49mfit(X_train, Y_train)\n\u001b[1;32m     11\u001b[0m preds_valid \u001b[39m=\u001b[39m model\u001b[39m.\u001b[39mpredict(X_test)\n\u001b[1;32m     12\u001b[0m \u001b[39mreturn\u001b[39;00m mean_absolute_error(Y_test, preds_valid), accuracy_score(Y_test, preds_valid)\n",
      "File \u001b[0;32m~/Documents/aulas/tcc/impl_tests/venv/lib/python3.11/site-packages/sklearn/base.py:1474\u001b[0m, in \u001b[0;36m_fit_context.<locals>.decorator.<locals>.wrapper\u001b[0;34m(estimator, *args, **kwargs)\u001b[0m\n\u001b[1;32m   1467\u001b[0m     estimator\u001b[39m.\u001b[39m_validate_params()\n\u001b[1;32m   1469\u001b[0m \u001b[39mwith\u001b[39;00m config_context(\n\u001b[1;32m   1470\u001b[0m     skip_parameter_validation\u001b[39m=\u001b[39m(\n\u001b[1;32m   1471\u001b[0m         prefer_skip_nested_validation \u001b[39mor\u001b[39;00m global_skip_validation\n\u001b[1;32m   1472\u001b[0m     )\n\u001b[1;32m   1473\u001b[0m ):\n\u001b[0;32m-> 1474\u001b[0m     \u001b[39mreturn\u001b[39;00m fit_method(estimator, \u001b[39m*\u001b[39;49margs, \u001b[39m*\u001b[39;49m\u001b[39m*\u001b[39;49mkwargs)\n",
      "File \u001b[0;32m~/Documents/aulas/tcc/impl_tests/venv/lib/python3.11/site-packages/sklearn/neighbors/_classification.py:238\u001b[0m, in \u001b[0;36mKNeighborsClassifier.fit\u001b[0;34m(self, X, y)\u001b[0m\n\u001b[1;32m    216\u001b[0m \u001b[39m@_fit_context\u001b[39m(\n\u001b[1;32m    217\u001b[0m     \u001b[39m# KNeighborsClassifier.metric is not validated yet\u001b[39;00m\n\u001b[1;32m    218\u001b[0m     prefer_skip_nested_validation\u001b[39m=\u001b[39m\u001b[39mFalse\u001b[39;00m\n\u001b[1;32m    219\u001b[0m )\n\u001b[1;32m    220\u001b[0m \u001b[39mdef\u001b[39;00m \u001b[39mfit\u001b[39m(\u001b[39mself\u001b[39m, X, y):\n\u001b[1;32m    221\u001b[0m \u001b[39m    \u001b[39m\u001b[39m\"\"\"Fit the k-nearest neighbors classifier from the training dataset.\u001b[39;00m\n\u001b[1;32m    222\u001b[0m \n\u001b[1;32m    223\u001b[0m \u001b[39m    Parameters\u001b[39;00m\n\u001b[0;32m   (...)\u001b[0m\n\u001b[1;32m    236\u001b[0m \u001b[39m        The fitted k-nearest neighbors classifier.\u001b[39;00m\n\u001b[1;32m    237\u001b[0m \u001b[39m    \"\"\"\u001b[39;00m\n\u001b[0;32m--> 238\u001b[0m     \u001b[39mreturn\u001b[39;00m \u001b[39mself\u001b[39;49m\u001b[39m.\u001b[39;49m_fit(X, y)\n",
      "File \u001b[0;32m~/Documents/aulas/tcc/impl_tests/venv/lib/python3.11/site-packages/sklearn/neighbors/_base.py:476\u001b[0m, in \u001b[0;36mNeighborsBase._fit\u001b[0;34m(self, X, y)\u001b[0m\n\u001b[1;32m    474\u001b[0m \u001b[39mif\u001b[39;00m \u001b[39mself\u001b[39m\u001b[39m.\u001b[39m_get_tags()[\u001b[39m\"\u001b[39m\u001b[39mrequires_y\u001b[39m\u001b[39m\"\u001b[39m]:\n\u001b[1;32m    475\u001b[0m     \u001b[39mif\u001b[39;00m \u001b[39mnot\u001b[39;00m \u001b[39misinstance\u001b[39m(X, (KDTree, BallTree, NeighborsBase)):\n\u001b[0;32m--> 476\u001b[0m         X, y \u001b[39m=\u001b[39m \u001b[39mself\u001b[39;49m\u001b[39m.\u001b[39;49m_validate_data(\n\u001b[1;32m    477\u001b[0m             X, y, accept_sparse\u001b[39m=\u001b[39;49m\u001b[39m\"\u001b[39;49m\u001b[39mcsr\u001b[39;49m\u001b[39m\"\u001b[39;49m, multi_output\u001b[39m=\u001b[39;49m\u001b[39mTrue\u001b[39;49;00m, order\u001b[39m=\u001b[39;49m\u001b[39m\"\u001b[39;49m\u001b[39mC\u001b[39;49m\u001b[39m\"\u001b[39;49m\n\u001b[1;32m    478\u001b[0m         )\n\u001b[1;32m    480\u001b[0m     \u001b[39mif\u001b[39;00m is_classifier(\u001b[39mself\u001b[39m):\n\u001b[1;32m    481\u001b[0m         \u001b[39m# Classification targets require a specific format\u001b[39;00m\n\u001b[1;32m    482\u001b[0m         \u001b[39mif\u001b[39;00m y\u001b[39m.\u001b[39mndim \u001b[39m==\u001b[39m \u001b[39m1\u001b[39m \u001b[39mor\u001b[39;00m y\u001b[39m.\u001b[39mndim \u001b[39m==\u001b[39m \u001b[39m2\u001b[39m \u001b[39mand\u001b[39;00m y\u001b[39m.\u001b[39mshape[\u001b[39m1\u001b[39m] \u001b[39m==\u001b[39m \u001b[39m1\u001b[39m:\n",
      "File \u001b[0;32m~/Documents/aulas/tcc/impl_tests/venv/lib/python3.11/site-packages/sklearn/base.py:650\u001b[0m, in \u001b[0;36mBaseEstimator._validate_data\u001b[0;34m(self, X, y, reset, validate_separately, cast_to_ndarray, **check_params)\u001b[0m\n\u001b[1;32m    648\u001b[0m         y \u001b[39m=\u001b[39m check_array(y, input_name\u001b[39m=\u001b[39m\u001b[39m\"\u001b[39m\u001b[39my\u001b[39m\u001b[39m\"\u001b[39m, \u001b[39m*\u001b[39m\u001b[39m*\u001b[39mcheck_y_params)\n\u001b[1;32m    649\u001b[0m     \u001b[39melse\u001b[39;00m:\n\u001b[0;32m--> 650\u001b[0m         X, y \u001b[39m=\u001b[39m check_X_y(X, y, \u001b[39m*\u001b[39;49m\u001b[39m*\u001b[39;49mcheck_params)\n\u001b[1;32m    651\u001b[0m     out \u001b[39m=\u001b[39m X, y\n\u001b[1;32m    653\u001b[0m \u001b[39mif\u001b[39;00m \u001b[39mnot\u001b[39;00m no_val_X \u001b[39mand\u001b[39;00m check_params\u001b[39m.\u001b[39mget(\u001b[39m\"\u001b[39m\u001b[39mensure_2d\u001b[39m\u001b[39m\"\u001b[39m, \u001b[39mTrue\u001b[39;00m):\n",
      "File \u001b[0;32m~/Documents/aulas/tcc/impl_tests/venv/lib/python3.11/site-packages/sklearn/utils/validation.py:1263\u001b[0m, in \u001b[0;36mcheck_X_y\u001b[0;34m(X, y, accept_sparse, accept_large_sparse, dtype, order, copy, force_all_finite, ensure_2d, allow_nd, multi_output, ensure_min_samples, ensure_min_features, y_numeric, estimator)\u001b[0m\n\u001b[1;32m   1258\u001b[0m         estimator_name \u001b[39m=\u001b[39m _check_estimator_name(estimator)\n\u001b[1;32m   1259\u001b[0m     \u001b[39mraise\u001b[39;00m \u001b[39mValueError\u001b[39;00m(\n\u001b[1;32m   1260\u001b[0m         \u001b[39mf\u001b[39m\u001b[39m\"\u001b[39m\u001b[39m{\u001b[39;00mestimator_name\u001b[39m}\u001b[39;00m\u001b[39m requires y to be passed, but the target y is None\u001b[39m\u001b[39m\"\u001b[39m\n\u001b[1;32m   1261\u001b[0m     )\n\u001b[0;32m-> 1263\u001b[0m X \u001b[39m=\u001b[39m check_array(\n\u001b[1;32m   1264\u001b[0m     X,\n\u001b[1;32m   1265\u001b[0m     accept_sparse\u001b[39m=\u001b[39;49maccept_sparse,\n\u001b[1;32m   1266\u001b[0m     accept_large_sparse\u001b[39m=\u001b[39;49maccept_large_sparse,\n\u001b[1;32m   1267\u001b[0m     dtype\u001b[39m=\u001b[39;49mdtype,\n\u001b[1;32m   1268\u001b[0m     order\u001b[39m=\u001b[39;49morder,\n\u001b[1;32m   1269\u001b[0m     copy\u001b[39m=\u001b[39;49mcopy,\n\u001b[1;32m   1270\u001b[0m     force_all_finite\u001b[39m=\u001b[39;49mforce_all_finite,\n\u001b[1;32m   1271\u001b[0m     ensure_2d\u001b[39m=\u001b[39;49mensure_2d,\n\u001b[1;32m   1272\u001b[0m     allow_nd\u001b[39m=\u001b[39;49mallow_nd,\n\u001b[1;32m   1273\u001b[0m     ensure_min_samples\u001b[39m=\u001b[39;49mensure_min_samples,\n\u001b[1;32m   1274\u001b[0m     ensure_min_features\u001b[39m=\u001b[39;49mensure_min_features,\n\u001b[1;32m   1275\u001b[0m     estimator\u001b[39m=\u001b[39;49mestimator,\n\u001b[1;32m   1276\u001b[0m     input_name\u001b[39m=\u001b[39;49m\u001b[39m\"\u001b[39;49m\u001b[39mX\u001b[39;49m\u001b[39m\"\u001b[39;49m,\n\u001b[1;32m   1277\u001b[0m )\n\u001b[1;32m   1279\u001b[0m y \u001b[39m=\u001b[39m _check_y(y, multi_output\u001b[39m=\u001b[39mmulti_output, y_numeric\u001b[39m=\u001b[39my_numeric, estimator\u001b[39m=\u001b[39mestimator)\n\u001b[1;32m   1281\u001b[0m check_consistent_length(X, y)\n",
      "File \u001b[0;32m~/Documents/aulas/tcc/impl_tests/venv/lib/python3.11/site-packages/sklearn/utils/validation.py:1049\u001b[0m, in \u001b[0;36mcheck_array\u001b[0;34m(array, accept_sparse, accept_large_sparse, dtype, order, copy, force_all_finite, ensure_2d, allow_nd, ensure_min_samples, ensure_min_features, estimator, input_name)\u001b[0m\n\u001b[1;32m   1043\u001b[0m     \u001b[39mraise\u001b[39;00m \u001b[39mValueError\u001b[39;00m(\n\u001b[1;32m   1044\u001b[0m         \u001b[39m\"\u001b[39m\u001b[39mFound array with dim \u001b[39m\u001b[39m%d\u001b[39;00m\u001b[39m. \u001b[39m\u001b[39m%s\u001b[39;00m\u001b[39m expected <= 2.\u001b[39m\u001b[39m\"\u001b[39m\n\u001b[1;32m   1045\u001b[0m         \u001b[39m%\u001b[39m (array\u001b[39m.\u001b[39mndim, estimator_name)\n\u001b[1;32m   1046\u001b[0m     )\n\u001b[1;32m   1048\u001b[0m \u001b[39mif\u001b[39;00m force_all_finite:\n\u001b[0;32m-> 1049\u001b[0m     _assert_all_finite(\n\u001b[1;32m   1050\u001b[0m         array,\n\u001b[1;32m   1051\u001b[0m         input_name\u001b[39m=\u001b[39;49minput_name,\n\u001b[1;32m   1052\u001b[0m         estimator_name\u001b[39m=\u001b[39;49mestimator_name,\n\u001b[1;32m   1053\u001b[0m         allow_nan\u001b[39m=\u001b[39;49mforce_all_finite \u001b[39m==\u001b[39;49m \u001b[39m\"\u001b[39;49m\u001b[39mallow-nan\u001b[39;49m\u001b[39m\"\u001b[39;49m,\n\u001b[1;32m   1054\u001b[0m     )\n\u001b[1;32m   1056\u001b[0m \u001b[39mif\u001b[39;00m copy:\n\u001b[1;32m   1057\u001b[0m     \u001b[39mif\u001b[39;00m _is_numpy_namespace(xp):\n\u001b[1;32m   1058\u001b[0m         \u001b[39m# only make a copy if `array` and `array_orig` may share memory`\u001b[39;00m\n",
      "File \u001b[0;32m~/Documents/aulas/tcc/impl_tests/venv/lib/python3.11/site-packages/sklearn/utils/validation.py:126\u001b[0m, in \u001b[0;36m_assert_all_finite\u001b[0;34m(X, allow_nan, msg_dtype, estimator_name, input_name)\u001b[0m\n\u001b[1;32m    123\u001b[0m \u001b[39mif\u001b[39;00m first_pass_isfinite:\n\u001b[1;32m    124\u001b[0m     \u001b[39mreturn\u001b[39;00m\n\u001b[0;32m--> 126\u001b[0m _assert_all_finite_element_wise(\n\u001b[1;32m    127\u001b[0m     X,\n\u001b[1;32m    128\u001b[0m     xp\u001b[39m=\u001b[39;49mxp,\n\u001b[1;32m    129\u001b[0m     allow_nan\u001b[39m=\u001b[39;49mallow_nan,\n\u001b[1;32m    130\u001b[0m     msg_dtype\u001b[39m=\u001b[39;49mmsg_dtype,\n\u001b[1;32m    131\u001b[0m     estimator_name\u001b[39m=\u001b[39;49mestimator_name,\n\u001b[1;32m    132\u001b[0m     input_name\u001b[39m=\u001b[39;49minput_name,\n\u001b[1;32m    133\u001b[0m )\n",
      "File \u001b[0;32m~/Documents/aulas/tcc/impl_tests/venv/lib/python3.11/site-packages/sklearn/utils/validation.py:175\u001b[0m, in \u001b[0;36m_assert_all_finite_element_wise\u001b[0;34m(X, xp, allow_nan, msg_dtype, estimator_name, input_name)\u001b[0m\n\u001b[1;32m    158\u001b[0m \u001b[39mif\u001b[39;00m estimator_name \u001b[39mand\u001b[39;00m input_name \u001b[39m==\u001b[39m \u001b[39m\"\u001b[39m\u001b[39mX\u001b[39m\u001b[39m\"\u001b[39m \u001b[39mand\u001b[39;00m has_nan_error:\n\u001b[1;32m    159\u001b[0m     \u001b[39m# Improve the error message on how to handle missing values in\u001b[39;00m\n\u001b[1;32m    160\u001b[0m     \u001b[39m# scikit-learn.\u001b[39;00m\n\u001b[1;32m    161\u001b[0m     msg_err \u001b[39m+\u001b[39m\u001b[39m=\u001b[39m (\n\u001b[1;32m    162\u001b[0m         \u001b[39mf\u001b[39m\u001b[39m\"\u001b[39m\u001b[39m\\n\u001b[39;00m\u001b[39m{\u001b[39;00mestimator_name\u001b[39m}\u001b[39;00m\u001b[39m does not accept missing values\u001b[39m\u001b[39m\"\u001b[39m\n\u001b[1;32m    163\u001b[0m         \u001b[39m\"\u001b[39m\u001b[39m encoded as NaN natively. For supervised learning, you might want\u001b[39m\u001b[39m\"\u001b[39m\n\u001b[0;32m   (...)\u001b[0m\n\u001b[1;32m    173\u001b[0m         \u001b[39m\"\u001b[39m\u001b[39m#estimators-that-handle-nan-values\u001b[39m\u001b[39m\"\u001b[39m\n\u001b[1;32m    174\u001b[0m     )\n\u001b[0;32m--> 175\u001b[0m \u001b[39mraise\u001b[39;00m \u001b[39mValueError\u001b[39;00m(msg_err)\n",
      "\u001b[0;31mValueError\u001b[0m: Input X contains infinity or a value too large for dtype('float64')."
     ]
    }
   ],
   "source": [
    "class_column = \"class\"\n",
    "train_columns = [f\"SENSOR{i}_SAMPEN\" for i in range(4)]\n",
    "\n",
    "X = full_ds[train_columns]\n",
    "Y = full_ds[class_column]\n",
    "\n",
    "get_score_and_accuracy(X, Y)"
   ]
  },
  {
   "cell_type": "markdown",
   "metadata": {},
   "source": [
    "## MAV Test"
   ]
  },
  {
   "cell_type": "code",
   "execution_count": 73,
   "metadata": {},
   "outputs": [
    {
     "data": {
      "text/plain": [
       "(3.5, 0.2)"
      ]
     },
     "execution_count": 73,
     "metadata": {},
     "output_type": "execute_result"
    }
   ],
   "source": [
    "class_column = \"class\"\n",
    "train_columns = [f\"SENSOR{i}_MAV\" for i in range(4)]\n",
    "\n",
    "X = full_ds[train_columns]\n",
    "Y = full_ds[class_column]\n",
    "\n",
    "get_score_and_accuracy(X, Y)"
   ]
  },
  {
   "cell_type": "markdown",
   "metadata": {},
   "source": [
    "## WAMP Test"
   ]
  },
  {
   "cell_type": "code",
   "execution_count": 74,
   "metadata": {},
   "outputs": [
    {
     "data": {
      "text/plain": [
       "(3.3333333333333335, 0.06666666666666667)"
      ]
     },
     "execution_count": 74,
     "metadata": {},
     "output_type": "execute_result"
    }
   ],
   "source": [
    "class_column = \"class\"\n",
    "train_columns = [f\"SENSOR{i}_WAMP\" for i in range(4)]\n",
    "\n",
    "X = full_ds[train_columns]\n",
    "Y = full_ds[class_column]\n",
    "\n",
    "get_score_and_accuracy(X, Y)"
   ]
  },
  {
   "cell_type": "markdown",
   "metadata": {},
   "source": [
    "## WAVELEN Test"
   ]
  },
  {
   "cell_type": "code",
   "execution_count": 75,
   "metadata": {},
   "outputs": [
    {
     "data": {
      "text/plain": [
       "(3.3333333333333335, 0.1)"
      ]
     },
     "execution_count": 75,
     "metadata": {},
     "output_type": "execute_result"
    }
   ],
   "source": [
    "class_column = \"class\"\n",
    "train_columns = [f\"SENSOR{i}_WAVELEN\" for i in range(4)]\n",
    "\n",
    "X = full_ds[train_columns]\n",
    "Y = full_ds[class_column]\n",
    "\n",
    "get_score_and_accuracy(X, Y)"
   ]
  },
  {
   "cell_type": "markdown",
   "metadata": {},
   "source": [
    "# Results\n",
    "Bad.\n",
    "\n",
    "Maybe we need to use the on-set algorithm, we are having really bad results"
   ]
  },
  {
   "cell_type": "markdown",
   "metadata": {},
   "source": [
    "Another tests with svm:"
   ]
  },
  {
   "cell_type": "code",
   "execution_count": 76,
   "metadata": {},
   "outputs": [],
   "source": [
    "from sklearn.svm import SVC\n",
    "\n",
    "\n",
    "def get_score_and_accuracy_svm(X, Y):\n",
    "    X_train,X_test,Y_train,Y_test=train_test_split(X,Y,train_size=0.8,test_size=0.2)\n",
    "    encoder = LabelEncoder()\n",
    "    Y_train = encoder.fit_transform(Y_train)\n",
    "\n",
    "    labeled_Y_test = Y_test\n",
    "    Y_test = encoder.transform(Y_test)\n",
    "    model = SVC()\n",
    "    model.fit(X_train, Y_train)\n",
    "    preds_valid = model.predict(X_test)\n",
    "    return mean_absolute_error(Y_test, preds_valid), accuracy_score(Y_test, preds_valid)"
   ]
  },
  {
   "cell_type": "code",
   "execution_count": 77,
   "metadata": {},
   "outputs": [
    {
     "data": {
      "text/plain": [
       "(3.533333333333333, 0.06666666666666667)"
      ]
     },
     "execution_count": 77,
     "metadata": {},
     "output_type": "execute_result"
    }
   ],
   "source": [
    "class_column = \"class\"\n",
    "train_columns = [f\"SENSOR{i}_WAMP\" for i in range(4)]\n",
    "\n",
    "X = full_ds[train_columns]\n",
    "Y = full_ds[class_column]\n",
    "\n",
    "get_score_and_accuracy_svm(X, Y)"
   ]
  },
  {
   "cell_type": "code",
   "execution_count": 78,
   "metadata": {},
   "outputs": [
    {
     "data": {
      "text/plain": [
       "(3.033333333333333, 0.2)"
      ]
     },
     "execution_count": 78,
     "metadata": {},
     "output_type": "execute_result"
    }
   ],
   "source": [
    "class_column = \"class\"\n",
    "train_columns = [f\"SENSOR{i}_MAV\" for i in range(4)]\n",
    "\n",
    "X = full_ds[train_columns]\n",
    "Y = full_ds[class_column]\n",
    "\n",
    "get_score_and_accuracy(X, Y)"
   ]
  },
  {
   "cell_type": "code",
   "execution_count": null,
   "metadata": {},
   "outputs": [],
   "source": []
  }
 ],
 "metadata": {
  "kernelspec": {
   "display_name": "Python 3 (ipykernel)",
   "language": "python",
   "name": "python3"
  },
  "language_info": {
   "codemirror_mode": {
    "name": "ipython",
    "version": 3
   },
   "file_extension": ".py",
   "mimetype": "text/x-python",
   "name": "python",
   "nbconvert_exporter": "python",
   "pygments_lexer": "ipython3",
   "version": "3.11.8"
  }
 },
 "nbformat": 4,
 "nbformat_minor": 4
}
