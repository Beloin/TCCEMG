{
  "cells": [
    {
      "cell_type": "code",
      "metadata": {
        "jukit_cell_id": "KRXXGnMMAB"
      },
      "source": [
        "from math import log\n",
        "from itertools import combinations\n",
        "import matplotlib.pyplot as plt\n",
        "import numpy as np\n",
        "import extractor as ext\n",
        "import pandas as pd\n",
        "\n",
        "# Nonlinear measures for dynamic system\n",
        "# import nodls"
      ],
      "outputs": [],
      "execution_count": null
    },
    {
      "cell_type": "code",
      "metadata": {
        "jukit_cell_id": "QcH1C2VbZC"
      },
      "source": [
        "fbase = pd.read_csv('./1_filtered.csv', header=None)"
      ],
      "outputs": [],
      "execution_count": null
    },
    {
      "cell_type": "code",
      "metadata": {
        "jukit_cell_id": "IBSaTAkXwY"
      },
      "source": [
        "extractor = ext.RecordExtractor()\n",
        "cycles = extractor.read_sample(fbase)\n",
        "len(cycles)"
      ],
      "outputs": [
        {
          "output_type": "stream",
          "name": "stdout",
          "text": "1280000\n1280000\n1280000\n1280000\n1280000\n1280000\n1280000\n1280000\n1280000\n1280000\n1280000\n1280000\n1280000\n1280000\n1280000\n1280000\n1280000\n1280000\n1280000\n1280000\n"
        },
        {
          "output_type": "execute_result",
          "execution_count": 1,
          "data": {
            "text/plain": "4"
          },
          "metadata": {}
        }
      ],
      "execution_count": 1
    },
    {
      "cell_type": "markdown",
      "metadata": {
        "jukit_cell_id": "3YgVu9iRnr"
      },
      "source": [
        "Implement feature extractors:\n",
        "\n",
        "1. SampEn - Sample Entropy\n",
        "2. RMS - Root Mean Square\n",
        "3. WL - Waveform Length\n",
        "4. WAMP - Willison Amplitude\n",
        "5. ApEn - Approximate entropy\n",
        "6. MAV - Mean Absolute Value"
      ]
    },
    {
      "cell_type": "markdown",
      "metadata": {
        "jukit_cell_id": "4pPo6KQ1QC"
      },
      "source": [
        "# SampEn\n",
        "\n",
        "Sample entropy (SampEn) is a modification of approximate entropy (ApEn), used for assessing the complexity of physiological time-series signals, diagnosing diseased states. SampEn has two advantages over ApEn: data length independence and a relatively trouble-free implementation."
      ]
    },
    {
      "cell_type": "code",
      "metadata": {
        "jukit_cell_id": "bSEp5543T3"
      },
      "source": [
        "def construct_templates(timeseries_data: list, m: int = 2):\n",
        "    num_windows = len(timeseries_data) - m + 1\n",
        "    return [timeseries_data[x: x + m] for x in range(0, num_windows)]\n",
        "\n",
        "\n",
        "def get_matches(templates: list, r: float):\n",
        "    return len(\n",
        "        list(filter(lambda x: is_match(\n",
        "            x[0], x[1], r), combinations(templates, 2)))\n",
        "    )\n",
        "\n",
        "\n",
        "def is_match(template_1: list, template_2: list, r: float):\n",
        "    return all([abs(x - y) < r for (x, y) in zip(template_1, template_2)])\n",
        "\n",
        "\n",
        "def sample_entropy(timeseries_data: list, window_size: int, r: float):\n",
        "    B = get_matches(construct_templates(timeseries_data, window_size), r)\n",
        "    A = get_matches(construct_templates(timeseries_data, window_size + 1), r)\n",
        "    return -log(A / B)"
      ],
      "outputs": [],
      "execution_count": null
    },
    {
      "cell_type": "code",
      "metadata": {
        "jukit_cell_id": "oJlYWSM7Hs"
      },
      "source": [
        "fbase.head()"
      ],
      "outputs": [
        {
          "output_type": "stream",
          "name": "stdout",
          "text": "\n"
        },
        {
          "output_type": "execute_result",
          "execution_count": 2,
          "data": {
            "text/plain": "          0         1         2         3\n0  8.456798 -4.466378  7.215951  0.019221\n1  8.454815 -4.464132  7.212556  0.019295\n2  8.453542 -4.461002  7.207107  0.019680\n3  8.449433 -4.457170  7.201194  0.020556\n4  8.440568 -4.453560  7.195996  0.020409"
          },
          "metadata": {}
        }
      ],
      "execution_count": 2
    },
    {
      "cell_type": "code",
      "metadata": {
        "jukit_cell_id": "yIJHBh1f9x"
      },
      "source": [
        "# Cycles 4 Sensors with 5 Cycles\n",
        "cycle_01 = cycles[0][0]\n",
        "print(cycle_01)\n",
        "print(len(cycle_01.grip))\n",
        "cycle_01.grip.info()"
      ],
      "outputs": [
        {
          "output_type": "stream",
          "name": "stdout",
          "text": "<extractor.Cycle object at 0x7f4462bea110>\n12000\n<class 'pandas.core.series.Series'>\nRangeIndex: 12000 entries, 108000 to 119999\nSeries name: 0\nNon-Null Count  Dtype  \n--------------  -----  \n12000 non-null  float64\ndtypes: float64(1)\nmemory usage: 93.9 KB\n"
        }
      ],
      "execution_count": 3
    },
    {
      "cell_type": "code",
      "metadata": {
        "jukit_cell_id": "Fv3Fn2slGu"
      },
      "source": [
        "c_01std = np.std(cycle_01.grip)\n",
        "cycle_01.grip.head()"
      ],
      "outputs": [
        {
          "output_type": "stream",
          "name": "stdout",
          "text": "\n"
        },
        {
          "output_type": "execute_result",
          "execution_count": 4,
          "data": {
            "text/plain": "108000    0.037666\n108001    0.012989\n108002   -0.025789\n108003   -0.062451\n108004   -0.078099\nName: 0, dtype: float64"
          },
          "metadata": {}
        }
      ],
      "execution_count": 4
    },
    {
      "cell_type": "code",
      "metadata": {
        "jukit_cell_id": "kh1XViUlqV"
      },
      "source": [
        "sample_entropy(cycle_01.grip, 0.5*extractor._freq,\n",
        "               c_01std)  # How to use withou integer?"
      ],
      "outputs": [
        {
          "output_type": "stream",
          "name": "stdout",
          "text": "\u001b[0;31m---------------------------------------------------------------------------\u001b[0m\n\u001b[0;31mTypeError\u001b[0m                                 Traceback (most recent call last)\nCell \u001b[0;32mIn[9], line 1\u001b[0m\n\u001b[0;32m----> 1\u001b[0m \u001b[43msample_entropy\u001b[49m\u001b[43m(\u001b[49m\u001b[43mcycle_01\u001b[49m\u001b[38;5;241;43m.\u001b[39;49m\u001b[43mgrip\u001b[49m\u001b[43m,\u001b[49m\u001b[43m \u001b[49m\u001b[38;5;241;43m0.5\u001b[39;49m\u001b[38;5;241;43m*\u001b[39;49m\u001b[43mextractor\u001b[49m\u001b[38;5;241;43m.\u001b[39;49m\u001b[43m_freq\u001b[49m\u001b[43m,\u001b[49m\n\u001b[1;32m      2\u001b[0m \u001b[43m               \u001b[49m\u001b[43mc_01std\u001b[49m\u001b[43m)\u001b[49m  \u001b[38;5;66;03m# How to use withou integer?\u001b[39;00m\n\nCell \u001b[0;32mIn[5], line 18\u001b[0m, in \u001b[0;36msample_entropy\u001b[0;34m(timeseries_data, window_size, r)\u001b[0m\n\u001b[1;32m     17\u001b[0m \u001b[38;5;28;01mdef\u001b[39;00m \u001b[38;5;21msample_entropy\u001b[39m(timeseries_data: \u001b[38;5;28mlist\u001b[39m, window_size: \u001b[38;5;28mint\u001b[39m, r: \u001b[38;5;28mfloat\u001b[39m):\n\u001b[0;32m---> 18\u001b[0m     B \u001b[38;5;241m=\u001b[39m get_matches(\u001b[43mconstruct_templates\u001b[49m\u001b[43m(\u001b[49m\u001b[43mtimeseries_data\u001b[49m\u001b[43m,\u001b[49m\u001b[43m \u001b[49m\u001b[43mwindow_size\u001b[49m\u001b[43m)\u001b[49m, r)\n\u001b[1;32m     19\u001b[0m     A \u001b[38;5;241m=\u001b[39m get_matches(construct_templates(timeseries_data, window_size \u001b[38;5;241m+\u001b[39m \u001b[38;5;241m1\u001b[39m), r)\n\u001b[1;32m     20\u001b[0m     \u001b[38;5;28;01mreturn\u001b[39;00m \u001b[38;5;241m-\u001b[39mlog(A \u001b[38;5;241m/\u001b[39m B)\n\nCell \u001b[0;32mIn[5], line 3\u001b[0m, in \u001b[0;36mconstruct_templates\u001b[0;34m(timeseries_data, m)\u001b[0m\n\u001b[1;32m      1\u001b[0m \u001b[38;5;28;01mdef\u001b[39;00m \u001b[38;5;21mconstruct_templates\u001b[39m(timeseries_data: \u001b[38;5;28mlist\u001b[39m, m: \u001b[38;5;28mint\u001b[39m \u001b[38;5;241m=\u001b[39m \u001b[38;5;241m2\u001b[39m):\n\u001b[1;32m      2\u001b[0m     num_windows \u001b[38;5;241m=\u001b[39m \u001b[38;5;28mlen\u001b[39m(timeseries_data) \u001b[38;5;241m-\u001b[39m m \u001b[38;5;241m+\u001b[39m \u001b[38;5;241m1\u001b[39m\n\u001b[0;32m----> 3\u001b[0m     \u001b[38;5;28;01mreturn\u001b[39;00m [timeseries_data[x: x \u001b[38;5;241m+\u001b[39m m] \u001b[38;5;28;01mfor\u001b[39;00m x \u001b[38;5;129;01min\u001b[39;00m \u001b[38;5;28;43mrange\u001b[39;49m\u001b[43m(\u001b[49m\u001b[38;5;241;43m0\u001b[39;49m\u001b[43m,\u001b[49m\u001b[43m \u001b[49m\u001b[43mnum_windows\u001b[49m\u001b[43m)\u001b[49m]\n\n\u001b[0;31mTypeError\u001b[0m: 'float' object cannot be interpreted as an integer\n"
        }
      ],
      "execution_count": 5
    },
    {
      "cell_type": "markdown",
      "metadata": {
        "jukit_cell_id": "RTbV6qOJTj"
      },
      "source": [
        "# RMS - Root Mean Square \n",
        "Is the sum of all squared values, divided by the amount and made a square root\n",
        "Also named as Effective Value"
      ]
    },
    {
      "cell_type": "code",
      "metadata": {
        "jukit_cell_id": "EfxF9lHnWe"
      },
      "source": [
        "# Cycles 4 Sensors with 5 Cycles\n",
        "cycle_01 = cycles[0][0]\n",
        "print(cycle_01)\n",
        "print(len(cycle_01.grip))\n",
        "cycle_01.grip.info()"
      ],
      "outputs": [
        {
          "output_type": "stream",
          "name": "stdout",
          "text": "<extractor.Cycle object at 0x7f4462bea110>\n12000\n<class 'pandas.core.series.Series'>\nRangeIndex: 12000 entries, 108000 to 119999\nSeries name: 0\nNon-Null Count  Dtype  \n--------------  -----  \n12000 non-null  float64\ndtypes: float64(1)\nmemory usage: 93.9 KB\n"
        }
      ],
      "execution_count": 6
    },
    {
      "cell_type": "code",
      "metadata": {
        "jukit_cell_id": "zHvvG2zHsf"
      },
      "source": [
        "def rms(sample, window=200):\n",
        "    return np.sqrt(np.mean(sample**2))"
      ],
      "outputs": [],
      "execution_count": null
    },
    {
      "cell_type": "code",
      "metadata": {
        "jukit_cell_id": "pI4OKMOq8t"
      },
      "source": [
        "rms(cycle_01.grip)"
      ],
      "outputs": [
        {
          "output_type": "stream",
          "name": "stdout",
          "text": "\n"
        },
        {
          "output_type": "execute_result",
          "execution_count": 7,
          "data": {
            "text/plain": "0.023864513859219446"
          },
          "metadata": {}
        }
      ],
      "execution_count": 7
    },
    {
      "cell_type": "code",
      "metadata": {
        "jukit_cell_id": "ckJuZndQA1"
      },
      "source": [
        "# Choose the range, or the window\n",
        "rms(cycle_01.grip[:int(.2*extractor._freq)])"
      ],
      "outputs": [
        {
          "output_type": "stream",
          "name": "stdout",
          "text": "\n"
        },
        {
          "output_type": "execute_result",
          "execution_count": 8,
          "data": {
            "text/plain": "0.02493058423110956"
          },
          "metadata": {}
        }
      ],
      "execution_count": 8
    },
    {
      "cell_type": "code",
      "metadata": {
        "jukit_cell_id": "We2ZiuwrQg"
      },
      "source": [
        "data = []\n",
        "names = []\n",
        "for i in range(5):\n",
        "    window_s = .2 * (i+1)\n",
        "    window = window_s * extractor._freq\n",
        "    data.append(rms(cycle_01.grip[:int(window)]))\n",
        "    names.append(\"{0:0.2f}s\".format(window_s))\n",
        "\n",
        "data.append(rms(cycle_01.grip[:int(window)]))\n",
        "names.append('{0:0.2f}s'.format(cycle_01.grip.__len__()/extractor._freq))\n",
        "print(data)\n",
        "\n",
        "    \n",
        "plt.bar(names, data)"
      ],
      "outputs": [
        {
          "output_type": "stream",
          "name": "stdout",
          "text": "[0.02493058423110956, 0.025201874107211978, 0.027130253427377897, 0.025025661738195662, 0.029781746217193476, 0.029781746217193476]\n"
        },
        {
          "data": {
            "image/png": "[encoded data removed]"
          },
          "metadata": {},
          "output_type": "display_data"
        },
        {
          "output_type": "stream",
          "name": "stdout",
          "text": "\n"
        },
        {
          "output_type": "execute_result",
          "execution_count": 9,
          "data": {
            "text/plain": "<BarContainer object of 6 artists>"
          },
          "metadata": {}
        }
      ],
      "execution_count": 9
    },
    {
      "cell_type": "markdown",
      "metadata": {
        "jukit_cell_id": "MtlNpD3ptX"
      },
      "source": [
        "Waveform Length\n",
        "Waveform length is a measure of complexity of the EMG signal. It is defined as cumulative length of the EMG waveform over the time segment.\n",
        "\n",
        "![Wave Formula](./wavelength_formula.png)"
      ]
    },
    {
      "cell_type": "code",
      "metadata": {
        "jukit_cell_id": "Sy0uAjQCNc"
      },
      "source": [
        "import math\n",
        "\n",
        "def waveformlen(sample):\n",
        "    sum = 0\n",
        "    for i in range(len(sample)-1):\n",
        "        sum += math.fabs(sample[i+1] - sample[i])\n",
        "    return sum"
      ],
      "outputs": [],
      "execution_count": null
    },
    {
      "cell_type": "code",
      "metadata": {
        "jukit_cell_id": "0tkSgscJkZ"
      },
      "source": [
        "waveformlen(np.array(cycle_01.grip[:int(.2*extractor._freq)]))"
      ],
      "outputs": [
        {
          "output_type": "stream",
          "name": "stdout",
          "text": "\n"
        },
        {
          "output_type": "execute_result",
          "execution_count": 10,
          "data": {
            "text/plain": "3.0441391619407665"
          },
          "metadata": {}
        }
      ],
      "execution_count": 10
    },
    {
      "cell_type": "code",
      "metadata": {
        "jukit_cell_id": "YWWrqNXR2S"
      },
      "source": [
        "data = []\n",
        "names = []\n",
        "for i in range(5):\n",
        "    window_s = .2 * (i+1)\n",
        "    window = window_s * extractor._freq\n",
        "    data.append(waveformlen(np.array(cycle_01.grip[:int(window)])))\n",
        "    names.append(\"{0:0.2f}s\".format(window_s))\n",
        "\n",
        "data.append(waveformlen(np.array(cycle_01.grip[:int(window)])))\n",
        "names.append('{0:0.2f}s'.format(cycle_01.grip.__len__()/extractor._freq))\n",
        "print(data)\n",
        "    \n",
        "plt.bar(names, data)"
      ],
      "outputs": [
        {
          "output_type": "stream",
          "name": "stdout",
          "text": "[3.0441391619407665, 6.253401098561423, 10.018518552072353, 11.9663951364319, 17.022296042432373, 17.022296042432373]\n"
        },
        {
          "data": {
            "image/png": "[encoded data removed]"
          },
          "metadata": {},
          "output_type": "display_data"
        },
        {
          "output_type": "stream",
          "name": "stdout",
          "text": "\n"
        },
        {
          "output_type": "execute_result",
          "execution_count": 11,
          "data": {
            "text/plain": "<BarContainer object of 6 artists>"
          },
          "metadata": {}
        }
      ],
      "execution_count": 11
    },
    {
      "cell_type": "code",
      "metadata": {
        "jukit_cell_id": "GEDwmG2wVf"
      },
      "source": [],
      "outputs": [],
      "execution_count": null
    }
  ],
  "metadata": {
    "anaconda-cloud": {},
    "kernelspec": {
      "display_name": "python",
      "language": "python",
      "name": "python3"
    }
  },
  "nbformat": 4,
  "nbformat_minor": 4
}