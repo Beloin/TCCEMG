{
 "cells": [
  {
   "cell_type": "code",
   "execution_count": 1,
   "metadata": {},
   "outputs": [
    {
     "data": {
      "text/html": [
       "<div>\n",
       "<style scoped>\n",
       "    .dataframe tbody tr th:only-of-type {\n",
       "        vertical-align: middle;\n",
       "    }\n",
       "\n",
       "    .dataframe tbody tr th {\n",
       "        vertical-align: top;\n",
       "    }\n",
       "\n",
       "    .dataframe thead th {\n",
       "        text-align: right;\n",
       "    }\n",
       "</style>\n",
       "<table border=\"1\" class=\"dataframe\">\n",
       "  <thead>\n",
       "    <tr style=\"text-align: right;\">\n",
       "      <th></th>\n",
       "      <th>0</th>\n",
       "      <th>1</th>\n",
       "      <th>2</th>\n",
       "      <th>3</th>\n",
       "    </tr>\n",
       "  </thead>\n",
       "  <tbody>\n",
       "    <tr>\n",
       "      <th>0</th>\n",
       "      <td>8.456798</td>\n",
       "      <td>-4.466378</td>\n",
       "      <td>7.215951</td>\n",
       "      <td>0.019221</td>\n",
       "    </tr>\n",
       "    <tr>\n",
       "      <th>1</th>\n",
       "      <td>8.454815</td>\n",
       "      <td>-4.464132</td>\n",
       "      <td>7.212556</td>\n",
       "      <td>0.019295</td>\n",
       "    </tr>\n",
       "    <tr>\n",
       "      <th>2</th>\n",
       "      <td>8.453542</td>\n",
       "      <td>-4.461002</td>\n",
       "      <td>7.207107</td>\n",
       "      <td>0.019680</td>\n",
       "    </tr>\n",
       "    <tr>\n",
       "      <th>3</th>\n",
       "      <td>8.449433</td>\n",
       "      <td>-4.457170</td>\n",
       "      <td>7.201194</td>\n",
       "      <td>0.020556</td>\n",
       "    </tr>\n",
       "    <tr>\n",
       "      <th>4</th>\n",
       "      <td>8.440568</td>\n",
       "      <td>-4.453560</td>\n",
       "      <td>7.195996</td>\n",
       "      <td>0.020409</td>\n",
       "    </tr>\n",
       "  </tbody>\n",
       "</table>\n",
       "</div>"
      ],
      "text/plain": [
       "          0         1         2         3\n",
       "0  8.456798 -4.466378  7.215951  0.019221\n",
       "1  8.454815 -4.464132  7.212556  0.019295\n",
       "2  8.453542 -4.461002  7.207107  0.019680\n",
       "3  8.449433 -4.457170  7.201194  0.020556\n",
       "4  8.440568 -4.453560  7.195996  0.020409"
      ]
     },
     "execution_count": 1,
     "metadata": {},
     "output_type": "execute_result"
    }
   ],
   "source": [
    "import pandas as pd\n",
    "fbase = pd.read_csv('./1_filtered.csv', header=None)\n",
    "fbase.head()"
   ]
  },
  {
   "cell_type": "code",
   "execution_count": 2,
   "metadata": {},
   "outputs": [],
   "source": [
    "import dataset_creation as dtc\n",
    "\n",
    "ds, _ = dtc.create_dataset(fbase)"
   ]
  },
  {
   "cell_type": "code",
   "execution_count": 5,
   "metadata": {},
   "outputs": [
    {
     "name": "stdout",
     "output_type": "stream",
     "text": [
      "<class 'pandas.core.frame.DataFrame'>\n",
      "RangeIndex: 50 entries, 0 to 49\n",
      "Data columns (total 25 columns):\n",
      " #   Column           Non-Null Count  Dtype  \n",
      "---  ------           --------------  -----  \n",
      " 0   class            50 non-null     object \n",
      " 1   SENSOR0_RMS      50 non-null     float64\n",
      " 2   SENSOR0_WAVELEN  50 non-null     float64\n",
      " 3   SENSOR0_WAMP     50 non-null     int64  \n",
      " 4   SENSOR0_APPEN    50 non-null     float64\n",
      " 5   SENSOR0_SAMPEN   50 non-null     float64\n",
      " 6   SENSOR0_MAV      50 non-null     float64\n",
      " 7   SENSOR1_RMS      50 non-null     float64\n",
      " 8   SENSOR1_WAVELEN  50 non-null     float64\n",
      " 9   SENSOR1_WAMP     50 non-null     int64  \n",
      " 10  SENSOR1_APPEN    50 non-null     float64\n",
      " 11  SENSOR1_SAMPEN   50 non-null     float64\n",
      " 12  SENSOR1_MAV      50 non-null     float64\n",
      " 13  SENSOR2_RMS      50 non-null     float64\n",
      " 14  SENSOR2_WAVELEN  50 non-null     float64\n",
      " 15  SENSOR2_WAMP     50 non-null     int64  \n",
      " 16  SENSOR2_APPEN    50 non-null     float64\n",
      " 17  SENSOR2_SAMPEN   50 non-null     float64\n",
      " 18  SENSOR2_MAV      50 non-null     float64\n",
      " 19  SENSOR3_RMS      50 non-null     float64\n",
      " 20  SENSOR3_WAVELEN  50 non-null     float64\n",
      " 21  SENSOR3_WAMP     50 non-null     int64  \n",
      " 22  SENSOR3_APPEN    50 non-null     float64\n",
      " 23  SENSOR3_SAMPEN   50 non-null     float64\n",
      " 24  SENSOR3_MAV      50 non-null     float64\n",
      "dtypes: float64(20), int64(4), object(1)\n",
      "memory usage: 9.9+ KB\n"
     ]
    }
   ],
   "source": [
    "ds.info()"
   ]
  },
  {
   "cell_type": "code",
   "execution_count": null,
   "metadata": {},
   "outputs": [],
   "source": []
  }
 ],
 "metadata": {
  "kernelspec": {
   "display_name": "venv",
   "language": "python",
   "name": "python3"
  },
  "language_info": {
   "codemirror_mode": {
    "name": "ipython",
    "version": 3
   },
   "file_extension": ".py",
   "mimetype": "text/x-python",
   "name": "python",
   "nbconvert_exporter": "python",
   "pygments_lexer": "ipython3",
   "version": "3.11.8"
  },
  "orig_nbformat": 4
 },
 "nbformat": 4,
 "nbformat_minor": 2
}
